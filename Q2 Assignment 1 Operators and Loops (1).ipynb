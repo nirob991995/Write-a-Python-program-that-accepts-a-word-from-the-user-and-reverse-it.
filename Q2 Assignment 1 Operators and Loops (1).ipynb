{
 "cells": [
  {
   "cell_type": "markdown",
   "id": "b26479ba",
   "metadata": {},
   "source": [
    "# Write a Python program that accepts a word from the user and reverse it.\n",
    "\n",
    "\n",
    "\n",
    "Sample Test Case\n",
    "\n",
    "\n",
    "\n",
    "Input : Edyoda\n",
    "\n",
    "output: adoydE\n",
    "\n"
   ]
  },
  {
   "cell_type": "code",
   "execution_count": 1,
   "id": "8ab86141",
   "metadata": {},
   "outputs": [
    {
     "name": "stdout",
     "output_type": "stream",
     "text": [
      "Enter any word :- Edyoda\n"
     ]
    },
    {
     "data": {
      "text/plain": [
       "'adoydE'"
      ]
     },
     "execution_count": 1,
     "metadata": {},
     "output_type": "execute_result"
    }
   ],
   "source": [
    "var = input(\"Enter any word :- \")\n",
    "\"\".join(reversed(var))"
   ]
  },
  {
   "cell_type": "code",
   "execution_count": null,
   "id": "1aa87604",
   "metadata": {},
   "outputs": [],
   "source": [
    "# --------- ANOTHER METHOD----------------"
   ]
  },
  {
   "cell_type": "code",
   "execution_count": 2,
   "id": "343e61a3",
   "metadata": {},
   "outputs": [
    {
     "name": "stdout",
     "output_type": "stream",
     "text": [
      "Enter any word :- Edyoda\n",
      "adoydE\n"
     ]
    }
   ],
   "source": [
    "name = input(\"Enter any word :- \" )\n",
    "a = name[::-1]\n",
    "print(a)"
   ]
  }
 ],
 "metadata": {
  "kernelspec": {
   "display_name": "Python 3 (ipykernel)",
   "language": "python",
   "name": "python3"
  },
  "language_info": {
   "codemirror_mode": {
    "name": "ipython",
    "version": 3
   },
   "file_extension": ".py",
   "mimetype": "text/x-python",
   "name": "python",
   "nbconvert_exporter": "python",
   "pygments_lexer": "ipython3",
   "version": "3.8.9"
  }
 },
 "nbformat": 4,
 "nbformat_minor": 5
}
